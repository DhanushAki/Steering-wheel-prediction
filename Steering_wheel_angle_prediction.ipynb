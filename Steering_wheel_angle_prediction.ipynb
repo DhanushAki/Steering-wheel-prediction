{
  "nbformat": 4,
  "nbformat_minor": 0,
  "metadata": {
    "colab": {
      "name": "Steering_wheel_angle_prediction.ipynb",
      "provenance": [],
      "authorship_tag": "ABX9TyPp+HM20QwJUZnWg3C+g7LR",
      "include_colab_link": true
    },
    "kernelspec": {
      "name": "python3",
      "display_name": "Python 3"
    }
  },
  "cells": [
    {
      "cell_type": "markdown",
      "metadata": {
        "id": "view-in-github",
        "colab_type": "text"
      },
      "source": [
        "<a href=\"https://colab.research.google.com/github/kirankamatmgm/steering-wheel-prediction/blob/master/Steering_wheel_angle_prediction.ipynb\" target=\"_parent\"><img src=\"https://colab.research.google.com/assets/colab-badge.svg\" alt=\"Open In Colab\"/></a>"
      ]
    },
    {
      "cell_type": "code",
      "metadata": {
        "id": "-EGIR7rDA3Je",
        "colab_type": "code",
        "colab": {}
      },
      "source": [
        "'''This project deals with steering wheel angle prediction in self driving cars.\n",
        "'''\n",
        "__author__ = \"Prajwal, Meghana, Kiran Kamath, Dhanush B Raj\"\n",
        "__version__ = \"1.0.1\"\n",
        "__email__ = \"tkushal216@gmail.com\"\n",
        "__status__ = \"Prototype\"\n"
      ],
      "execution_count": 0,
      "outputs": []
    },
    {
      "cell_type": "code",
      "metadata": {
        "id": "4Am7E3jKDign",
        "colab_type": "code",
        "colab": {}
      },
      "source": [
        "!pip3 install torch torchvision\n",
        "!wget https://d17h27t6h515a5.cloudfront.net/topher/2016/December/584f6edd_data/data.zip"
      ],
      "execution_count": 0,
      "outputs": []
    },
    {
      "cell_type": "code",
      "metadata": {
        "id": "0ghYYEOvT2XY",
        "colab_type": "code",
        "colab": {}
      },
      "source": [
        "!unzip data.zip"
      ],
      "execution_count": 0,
      "outputs": []
    },
    {
      "cell_type": "code",
      "metadata": {
        "id": "OxgOZtL7DivM",
        "colab_type": "code",
        "colab": {}
      },
      "source": [
        "import cv2\n",
        "import torch \n",
        "import torch.utils.data as data\n",
        "import numpy as np\n",
        "import csv\n",
        "\n",
        "samples = []\n",
        "\n",
        "# Reading the images from csv file\n",
        "with open('/content/data/driving_log.csv') as csvfile:\n",
        "  \n",
        "  reader = csv.reader(csvfile)\n",
        "  next(reader,None)\n",
        "  for line in reader:\n",
        "    samples.append(line)\n",
        "\n",
        "# dividing the dataset for training and testing\n",
        "# 80 percent of total dataset for training\n",
        "# 20 percent of total dataset for testing\n",
        "train_len = int(0.8*len(samples))\n",
        "test_len = len(samples) - train_len\n",
        "train_samples, testing_samples = torch.utils.data.random_split(samples, lengths=[train_len, test_len])"
      ],
      "execution_count": 0,
      "outputs": []
    },
    {
      "cell_type": "code",
      "metadata": {
        "id": "lwm-GbiXDiyS",
        "colab_type": "code",
        "colab": {}
      },
      "source": [
        ""
      ],
      "execution_count": 0,
      "outputs": []
    },
    {
      "cell_type": "code",
      "metadata": {
        "id": "YZo0KScRDi1E",
        "colab_type": "code",
        "colab": {}
      },
      "source": [
        ""
      ],
      "execution_count": 0,
      "outputs": []
    },
    {
      "cell_type": "code",
      "metadata": {
        "id": "jUKJEHq6Di7J",
        "colab_type": "code",
        "colab": {}
      },
      "source": [
        ""
      ],
      "execution_count": 0,
      "outputs": []
    },
    {
      "cell_type": "code",
      "metadata": {
        "id": "gh8IzsHUDi_S",
        "colab_type": "code",
        "colab": {}
      },
      "source": [
        ""
      ],
      "execution_count": 0,
      "outputs": []
    },
    {
      "cell_type": "code",
      "metadata": {
        "id": "UihzXIvUDjBp",
        "colab_type": "code",
        "colab": {}
      },
      "source": [
        ""
      ],
      "execution_count": 0,
      "outputs": []
    },
    {
      "cell_type": "code",
      "metadata": {
        "id": "KajEtiYDDjEy",
        "colab_type": "code",
        "colab": {}
      },
      "source": [
        ""
      ],
      "execution_count": 0,
      "outputs": []
    },
    {
      "cell_type": "code",
      "metadata": {
        "id": "2gpb9C6DDjHK",
        "colab_type": "code",
        "colab": {}
      },
      "source": [
        ""
      ],
      "execution_count": 0,
      "outputs": []
    },
    {
      "cell_type": "code",
      "metadata": {
        "id": "gMbcUk3eDjJ-",
        "colab_type": "code",
        "colab": {}
      },
      "source": [
        ""
      ],
      "execution_count": 0,
      "outputs": []
    },
    {
      "cell_type": "code",
      "metadata": {
        "id": "hgSjRQpPDjMq",
        "colab_type": "code",
        "colab": {}
      },
      "source": [
        ""
      ],
      "execution_count": 0,
      "outputs": []
    }
  ]
}