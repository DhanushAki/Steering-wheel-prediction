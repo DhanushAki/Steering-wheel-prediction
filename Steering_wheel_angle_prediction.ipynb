{
  "nbformat": 4,
  "nbformat_minor": 0,
  "metadata": {
    "colab": {
      "name": "Steering_wheel_angle_prediction.ipynb",
      "provenance": [],
      "authorship_tag": "ABX9TyPTJLgfTa0GO6Xaw63FLzko",
      "include_colab_link": true
    },
    "kernelspec": {
      "name": "python3",
      "display_name": "Python 3"
    }
  },
  "cells": [
    {
      "cell_type": "markdown",
      "metadata": {
        "id": "view-in-github",
        "colab_type": "text"
      },
      "source": [
        "<a href=\"https://colab.research.google.com/github/kirankamatmgm/steering-wheel-prediction/blob/master/Steering_wheel_angle_prediction.ipynb\" target=\"_parent\"><img src=\"https://colab.research.google.com/assets/colab-badge.svg\" alt=\"Open In Colab\"/></a>"
      ]
    },
    {
      "cell_type": "code",
      "metadata": {
        "id": "-EGIR7rDA3Je",
        "colab_type": "code",
        "colab": {}
      },
      "source": [
        "'''This project deals with steering wheel angle prediction in self driving cars.\n",
        "'''\n",
        "__author__ = \"Prajwal, Kiran Kamath, Dhanush B Raj, Meghana\"\n",
        "__version__ = \"1.0.1\"\n",
        "__email__ = \"tkushal216@gmail.com\"\n",
        "__status__ = \"Prototype\"\n"
      ],
      "execution_count": 0,
      "outputs": []
    }
  ]
}