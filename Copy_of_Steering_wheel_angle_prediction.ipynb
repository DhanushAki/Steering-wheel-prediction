{
  "nbformat": 4,
  "nbformat_minor": 0,
  "metadata": {
    "colab": {
      "name": "Copy of Steering_wheel_angle_prediction.ipynb",
      "provenance": [],
      "toc_visible": true,
      "authorship_tag": "ABX9TyP00LGthjl+V50Y/oG7IKs2",
      "include_colab_link": true
    },
    "kernelspec": {
      "name": "python3",
      "display_name": "Python 3"
    }
  },
  "cells": [
    {
      "cell_type": "markdown",
      "metadata": {
        "id": "view-in-github",
        "colab_type": "text"
      },
      "source": [
        "<a href=\"https://colab.research.google.com/github/kirankamatmgm/steering-wheel-prediction/blob/master/Copy_of_Steering_wheel_angle_prediction.ipynb\" target=\"_parent\"><img src=\"https://colab.research.google.com/assets/colab-badge.svg\" alt=\"Open In Colab\"/></a>"
      ]
    },
    {
      "cell_type": "code",
      "metadata": {
        "id": "-EGIR7rDA3Je",
        "colab_type": "code",
        "colab": {}
      },
      "source": [
        "'''This project deals with steering wheel angle prediction in self driving cars.\n",
        "'''\n",
        "__author__ = \"Prajwal, Meghana, Kiran Kamath, Dhanush B Raj\"\n",
        "__version__ = \"1.0.1\"\n",
        "__email__ = \"tkushal216@gmail.com\"\n",
        "__status__ = \"Prototype\"\n"
      ],
      "execution_count": 0,
      "outputs": []
    },
    {
      "cell_type": "code",
      "metadata": {
        "id": "-u1jOpJRtx6G",
        "colab_type": "code",
        "colab": {}
      },
      "source": [
        "!unzip /content/drive/My\\ Drive/project_dataset/dataset.zip"
      ],
      "execution_count": 0,
      "outputs": []
    },
    {
      "cell_type": "code",
      "metadata": {
        "id": "fAPsGrbSut8l",
        "colab_type": "code",
        "colab": {}
      },
      "source": [
        "!pwd"
      ],
      "execution_count": 0,
      "outputs": []
    },
    {
      "cell_type": "code",
      "metadata": {
        "id": "OxgOZtL7DivM",
        "colab_type": "code",
        "colab": {}
      },
      "source": [
        "import cv2\n",
        "import torch \n",
        "import torch.utils.data as data\n",
        "import numpy as np\n",
        "import csv\n",
        "\n",
        "samples = []\n",
        "\n",
        "# Step 1 : Reading the images from csv file\n",
        "with open('/content/data/driving_log.csv') as csvfile:\n",
        "  \n",
        "  reader = csv.reader(csvfile)\n",
        "  next(reader,None)\n",
        "  for line in reader:\n",
        "    samples.append(line)\n",
        "\n",
        "# Step 2 : Dividing the dataset for Training and Testing\n",
        "\n",
        "# 80 percent of total dataset for Training\n",
        "# 20 percent of total dataset for Testing\n",
        "train_len = int(0.8*len(samples))\n",
        "test_len = len(samples) - train_len\n",
        "train_samples, testing_samples = torch.utils.data.random_split(samples, lengths=[train_len, test_len])"
      ],
      "execution_count": 0,
      "outputs": []
    },
    {
      "cell_type": "code",
      "metadata": {
        "id": "lwm-GbiXDiyS",
        "colab_type": "code",
        "colab": {}
      },
      "source": [
        "import cv2\n",
        "import torch\n",
        "import torch.utils.data as data\n",
        "import numpy as np\n",
        "\n",
        "# Step 3a: Define the transformations process, augmentation and parameters for dataloader \n",
        "# What is augmentation ?\n",
        "# Augmentation refers to the process of generating new training data from a smaller data set.\n",
        "# Why cropping is done ?\n",
        "# -> cropping, basically, helps the model to focus only on the road by taking away the sky and other distracting stuff in the image.\n",
        "# Why flipping is done ?\n",
        "# -> flip images at random and change the sign of the predicted angle to simulate driving in the opposite direction\n",
        "\n",
        "def augment(imgName, angle):\n",
        "  name = 'data/IMG/' + imgName.split('/')[-1]\n",
        "  current_image = cv2.imread(name)\n",
        "  #cropping\n",
        "  # why those numbers ?\n",
        "  # ->\n",
        "  current_image = current_image[65:-25, :, :]\n",
        "  #random fliping\n",
        "  # why rand < 0.5 ?\n",
        "  #-> \n",
        "  if np.random.rand() < 0.5:\n",
        "    current_image = cv2.flip(current_image, 1)\n",
        "    angle = angle * -1.0  \n",
        "  return current_image, angle"
      ],
      "execution_count": 0,
      "outputs": []
    },
    {
      "cell_type": "code",
      "metadata": {
        "id": "YZo0KScRDi1E",
        "colab_type": "code",
        "colab": {}
      },
      "source": [
        "class Dataset(data.Dataset):\n",
        "\n",
        "    def __init__(self, samples, transform=None):\n",
        "\n",
        "        self.samples = samples\n",
        "        self.transform = transform\n",
        "\n",
        "    def __getitem__(self, index):\n",
        "      \n",
        "        batch_samples = self.samples[index]\n",
        "        \n",
        "        steering_angle = float(batch_samples[3])\n",
        "        \n",
        "        center_img, steering_angle_center = augment(batch_samples[0], steering_angle)\n",
        "        left_img, steering_angle_left = augment(batch_samples[1], steering_angle + 0.4)\n",
        "        right_img, steering_angle_right = augment(batch_samples[2], steering_angle - 0.4)\n",
        "\n",
        "        center_img = self.transform(center_img)\n",
        "        left_img = self.transform(left_img)\n",
        "        right_img = self.transform(right_img)\n",
        "\n",
        "        return (center_img, steering_angle_center), (left_img, steering_angle_left), (right_img, steering_angle_right)\n",
        "      \n",
        "    def __len__(self):\n",
        "        return len(self.samples)"
      ],
      "execution_count": 0,
      "outputs": []
    },
    {
      "cell_type": "code",
      "metadata": {
        "id": "jUKJEHq6Di7J",
        "colab_type": "code",
        "colab": {}
      },
      "source": [
        "# Step 3b : Creating generator using the dataloader to parallasize the process.\n",
        "params = {'batch_size': 32,\n",
        "          'shuffle': True,\n",
        "          'num_workers': 4}\n",
        "\n",
        "from torch.utils.data import DataLoader\n",
        "import torchvision.transforms as transforms\n",
        "\n",
        "transformations = transforms.Compose([transforms.Lambda(lambda x: (x / 255.0) - 0.5)])\n",
        "\n",
        "training_set = Dataset(train_samples, transformations)\n",
        "training_generator = data.DataLoader(training_set, **params)\n",
        "\n",
        "testing_set = Dataset(testing_samples, transformations)\n",
        "testing_generator = data.DataLoader(testing_set, **params)"
      ],
      "execution_count": 0,
      "outputs": []
    },
    {
      "cell_type": "code",
      "metadata": {
        "id": "gh8IzsHUDi_S",
        "colab_type": "code",
        "colab": {}
      },
      "source": [
        ""
      ],
      "execution_count": 0,
      "outputs": []
    },
    {
      "cell_type": "code",
      "metadata": {
        "id": "UihzXIvUDjBp",
        "colab_type": "code",
        "colab": {}
      },
      "source": [
        ""
      ],
      "execution_count": 0,
      "outputs": []
    },
    {
      "cell_type": "code",
      "metadata": {
        "id": "KajEtiYDDjEy",
        "colab_type": "code",
        "colab": {}
      },
      "source": [
        ""
      ],
      "execution_count": 0,
      "outputs": []
    },
    {
      "cell_type": "code",
      "metadata": {
        "id": "2gpb9C6DDjHK",
        "colab_type": "code",
        "colab": {}
      },
      "source": [
        ""
      ],
      "execution_count": 0,
      "outputs": []
    },
    {
      "cell_type": "code",
      "metadata": {
        "id": "gMbcUk3eDjJ-",
        "colab_type": "code",
        "colab": {}
      },
      "source": [
        ""
      ],
      "execution_count": 0,
      "outputs": []
    },
    {
      "cell_type": "code",
      "metadata": {
        "id": "hgSjRQpPDjMq",
        "colab_type": "code",
        "colab": {}
      },
      "source": [
        ""
      ],
      "execution_count": 0,
      "outputs": []
    }
  ]
}